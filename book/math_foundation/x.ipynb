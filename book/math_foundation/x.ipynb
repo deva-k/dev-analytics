{
 "cells": [
  {
   "cell_type": "markdown",
   "id": "5642b75f",
   "metadata": {},
   "source": [
    "# X"
   ]
  },
  {
   "cell_type": "markdown",
   "id": "fb1f20ad",
   "metadata": {},
   "source": [
    "## Real Numbers"
   ]
  },
  {
   "cell_type": "markdown",
   "id": "ad2424b9",
   "metadata": {},
   "source": [
    "### Euclid's Division Lemma"
   ]
  },
  {
   "cell_type": "markdown",
   "id": "e019ab51",
   "metadata": {},
   "source": [
    "Given positive integers $a$ and $b$, there exist unique integers $q$ and $r$ satisfying $a = bq + r$, $0 \\leq r < b$."
   ]
  },
  {
   "cell_type": "markdown",
   "id": "9191a0e1",
   "metadata": {},
   "source": [
    "Euclid’s division algorithm, as the name suggests, has to do with divisibility of\n",
    "integers. Stated simply, it says any positive integer $a$ can be divided by another positive\n",
    "integer $b$ in such a way that it leaves a remainder $r$ that is smaller than $b$."
   ]
  },
  {
   "cell_type": "markdown",
   "id": "c1b40659",
   "metadata": {},
   "source": [
    "Let us see how the algorithm works, through an example first. Suppose we need \n",
    "to find the HCF of the integers $455$ and $42$. We start with the larger integer, that is, \n",
    "$455$. Then we use Euclid's lemma to get\n",
    "\n",
    "$455 = 42 \\times 10 + 35$\n",
    "\n",
    "Now consider the divisor $42$ and the remainder $35$, and apply the division lemma \n",
    "to get\n",
    "\n",
    "$42 = 35 \\times 1 + 7$\n",
    "\n",
    "Now consider the divisor $35$ and the remainder $7$, and apply the division lemma \n",
    "to get\n",
    "\n",
    "$35 = 7 \\times 5 + 0$\n",
    "\n",
    "Notice that the remainder has become zero, and we cannot proceed any further. \n",
    "We claim that the HCF of $455$ and $42$ is the divisor at this stage, i.e., $7$."
   ]
  },
  {
   "cell_type": "markdown",
   "id": "236c7354",
   "metadata": {},
   "source": [
    "Every positive even integer is of the form $2q$, and every positive odd integer is of the form $2q + 1$, where $q$ is some integer."
   ]
  },
  {
   "cell_type": "markdown",
   "id": "41b20fd9",
   "metadata": {},
   "source": [
    "### The Fundamental Theorem of Arithmetic"
   ]
  },
  {
   "cell_type": "markdown",
   "id": "6d48af3c",
   "metadata": {},
   "source": [
    "Every composite number\n",
    "can be expressed ( factorised) as a product of primes, and this factorisation is\n",
    "unique, apart from the order in which the prime factors occur."
   ]
  },
  {
   "cell_type": "markdown",
   "id": "506984b0",
   "metadata": {},
   "source": [
    "Any natural number can be written as a\n",
    "product of its prime factors. For instance, $2 = 2$, $4 = 2 \\times 2$, $253 = 11 \\times 23$"
   ]
  },
  {
   "cell_type": "markdown",
   "id": "6d83de8b",
   "metadata": {},
   "source": [
    "![Deep Learning take off](../images/math_foundation/prime_factor_tree.png)"
   ]
  },
  {
   "cell_type": "markdown",
   "id": "fbf6b19e",
   "metadata": {},
   "source": [
    "```{note}\n",
    "A composite number is a natural number (a positive whole number greater than 1) that has more than two factors (divisors) i.e. $1$ and itself.\n",
    "```"
   ]
  },
  {
   "cell_type": "markdown",
   "id": "be73865a",
   "metadata": {},
   "source": [
    "Note that $\\text{HCF}(6, 20) = 2^1 = \\text{Product of the smallest power of each common}$\n",
    "prime factor in the numbers.\n",
    "\n",
    "$\\text{LCM}(6, 20) = 2^2 \\times 3^1 \\times 5^1 = \\text{Product of the greatest power of each prime factor}$,\n",
    "involved in the numbers.\n",
    "\n",
    "From the example above, you might have noticed that $\\text{HCF}(6, 20) \\times \\text{LCM}(6, 20)\n",
    "= 6 \\times 20$. \n",
    "\n",
    "In fact, we can verify that for any two positive integers $a$ and $b$,\n",
    "$\\text{HCF}(a, b) \\times \\text{LCM}(a, b) = a \\times b$."
   ]
  },
  {
   "cell_type": "markdown",
   "id": "598fdbf1",
   "metadata": {},
   "source": [
    "The key to understanding this lies in the prime factorization of the two numbers, $a$ and $b$.\n",
    "\n",
    "Let's say the prime factorization of $a$ and $b$ are as follows:\n",
    "\n",
    "$a = p_1^{a_1} \\times p_2^{a_2} \\times \\dots \\times p_n^{a_n}$\n",
    "$b = p_1^{b_1} \\times p_2^{b_2} \\times \\dots \\times p_n^{b_n}$\n",
    "\n",
    "where $p_1, p_2, \\dots, p_n$ are all the prime factors that appear in either $a$ or $b$ (or both), and $a_i$ and $b_i$ are non-negative integers representing the exponents of these prime factors in the factorization of $a$ and $b$, respectively. If a prime factor doesn't appear in a number's factorization, its exponent is 0.\n",
    "\n",
    "Now, let's think about how we find the HCF and LCM using these prime factorizations:\n",
    "\n",
    "* **Highest Common Factor (HCF):** The HCF is the product of the common prime factors raised to the *lowest* power they appear in either factorization.\n",
    "    $\\text{HCF}(a, b) = p_1^{\\min(a_1, b_1)} \\times p_2^{\\min(a_2, b_2)} \\times \\dots \\times p_n^{\\min(a_n, b_n)}$\n",
    "\n",
    "* **Least Common Multiple (LCM):** The LCM is the product of all the prime factors that appear in either factorization raised to the *highest* power they appear in either factorization.\n",
    "    $\\text{LCM}(a, b) = p_1^{\\max(a_1, b_1)} \\times p_2^{\\max(a_2, b_2)} \\times \\dots \\times p_n^{\\max(a_n, b_n)}$\n",
    "\n",
    "Now, let's consider the product of the HCF and the LCM:\n",
    "\n",
    "$\\text{HCF}(a, b) \\times \\text{LCM}(a, b) = (p_1^{\\min(a_1, b_1)} \\times p_2^{\\min(a_2, b_2)} \\times \\dots \\times p_n^{\\min(a_n, b_n)}) \\times (p_1^{\\max(a_1, b_1)} \\times p_2^{\\max(a_2, b_2)} \\times \\dots \\times p_n^{\\max(a_n, b_n)})$\n",
    "\n",
    "We can rearrange this product by grouping the powers of the same prime factors together:\n",
    "\n",
    "$\\text{HCF}(a, b) \\times \\text{LCM}(a, b) = p_1^{\\min(a_1, b_1) + \\max(a_1, b_1)} \\times p_2^{\\min(a_2, b_2) + \\max(a_2, b_2)} \\times \\dots \\times p_n^{\\min(a_n, b_n) + \\max(a_n, b_n)}$\n",
    "\n",
    "Now, here's the crucial insight: for any two numbers $x$ and $y$, the sum of their minimum and maximum is equal to their sum:\n",
    "\n",
    "$\\min(x, y) + \\max(x, y) = x + y$\n",
    "\n",
    "Applying this to the exponents of our prime factors:\n",
    "\n",
    "$\\min(a_i, b_i) + \\max(a_i, b_i) = a_i + b_i$\n",
    "\n",
    "So, our product becomes:\n",
    "\n",
    "$\\text{HCF}(a, b) \\times \\text{LCM}(a, b) = p_1^{a_1 + b_1} \\times p_2^{a_2 + b_2} \\times \\dots \\times p_n^{a_n + b_n}$\n",
    "\n",
    "We can rewrite this using the properties of exponents:\n",
    "\n",
    "$\\text{HCF}(a, b) \\times \\text{LCM}(a, b) = (p_1^{a_1} \\times p_2^{a_2} \\times \\dots \\times p_n^{a_n}) \\times (p_1^{b_1} \\times p_2^{b_2} \\times \\dots \\times p_n^{b_n})$\n",
    "\n",
    "And recognizing the original prime factorizations of $a$ and $b$:\n",
    "\n",
    "$\\text{HCF}(a, b) \\times \\text{LCM}(a, b) = a \\times b$\n",
    "\n",
    "**In simpler terms, the logic is this:**\n",
    "\n",
    "When you find the HCF, you take the common prime factors with their *smallest* exponents. When you find the LCM, you take *all* the prime factors with their *largest* exponents.\n",
    "\n",
    "When you multiply the HCF and the LCM together, for each prime factor, you're essentially combining the smallest and largest exponent from the original numbers. This combination reconstructs the original exponents of that prime factor in both $a$ and $b$ when multiplied together.\n",
    "\n",
    "Let's take our example of 6 and 20 again:\n",
    "\n",
    "$6 = 2^1 \\times 3^1$\n",
    "$20 = 2^2 \\times 5^1$\n",
    "\n",
    "HCF(6, 20) = $2^{\\min(1, 2)} \\times 3^{\\min(1, 0)} \\times 5^{\\min(0, 1)} = 2^1 \\times 3^0 \\times 5^0 = 2 \\times 1 \\times 1 = 2$\n",
    "LCM(6, 20) = $2^{\\max(1, 2)} \\times 3^{\\max(1, 0)} \\times 5^{\\max(0, 1)} = 2^2 \\times 3^1 \\times 5^1 = 4 \\times 3 \\times 5 = 60$\n",
    "\n",
    "Now, let's multiply the HCF and LCM:\n",
    "\n",
    "HCF $\\times$ LCM = $2 \\times 60 = 120$\n",
    "\n",
    "And let's multiply the original numbers:\n",
    "\n",
    "$6 \\times 20 = 120$\n",
    "\n",
    "As you can see, they are equal!"
   ]
  },
  {
   "cell_type": "markdown",
   "id": "3c511595",
   "metadata": {},
   "source": [
    "## Polynomials"
   ]
  },
  {
   "cell_type": "markdown",
   "id": "f1ac350d",
   "metadata": {},
   "source": [
    "Let's break down the key features of a polynomial: **term**, **coefficient**, **variable**, **exponent**, and **degree**.\n",
    "\n",
    "**1. Term:**\n",
    "\n",
    "* A **term** in a polynomial is a product of a constant (the coefficient) and one or more variables raised to non-negative integer powers.\n",
    "* Terms are separated by addition (+) or subtraction (-) signs.\n",
    "\n",
    "    * **Examples:** In the polynomial $3x^2 - 5x + 7$, the terms are $3x^2$, $-5x$, and $7$.\n",
    "\n",
    "**2. Coefficient:**\n",
    "\n",
    "* The **coefficient** of a term is the numerical factor that multiplies the variable part of the term.\n",
    "\n",
    "    * **Examples:**\n",
    "        * In the term $3x^2$, the coefficient is **3**.\n",
    "        * In the term $-5x$, the coefficient is **-5**.\n",
    "        * In the term $7$ (which can be thought of as $7x^0$), the coefficient is **7**.\n",
    "        * If a term is just a variable like $y$, its coefficient is understood to be **1** (since $1y = y$).\n",
    "\n",
    "**3. Variable:**\n",
    "\n",
    "* A **variable** is a symbol (usually a letter like $x$, $y$, $z$, etc.) that represents an unknown or changing value.\n",
    "* Polynomials can have one or more variables.\n",
    "\n",
    "    * **Examples:**\n",
    "        * $2x + 1$ (one variable: $x$)\n",
    "        * $x^2y - 3xy + 4y^2$ (two variables: $x$ and $y$)\n",
    "\n",
    "**4. Exponent (or Power):**\n",
    "\n",
    "* The **exponent** (or power) of a variable in a term indicates how many times the variable is multiplied by itself.\n",
    "* For an expression to be a polynomial, the exponents of the variables in each term must be **non-negative integers** (0, 1, 2, 3, ...).\n",
    "\n",
    "    * **Examples:**\n",
    "        * In the term $3x^2$, the exponent of $x$ is **2**.\n",
    "        * In the term $-5x$ (which is $-5x^1$), the exponent of $x$ is **1**.\n",
    "        * In the term $7$ (which is $7x^0$), the exponent of $x$ is **0**.\n",
    "\n",
    "    * **Not polynomial terms:**\n",
    "        * $x^{-1}$ (negative exponent)\n",
    "        * $\\sqrt{x}$ or $x^{1/2}$ (fractional exponent)\n",
    "        * $\\frac{1}{x}$ (variable in the denominator, equivalent to $x^{-1}$)\n",
    "\n",
    "**5. Degree:**\n",
    "\n",
    "The concept of degree can be applied to both individual terms and the entire polynomial:\n",
    "\n",
    "* **Degree of a Term:**\n",
    "    * For a term with **one variable**, the degree is simply the exponent of that variable.\n",
    "        * Example: The degree of $3x^2$ is 2. The degree of $-5x$ is 1. The degree of $7$ is 0.\n",
    "    * For a term with **more than one variable**, the degree is the **sum of the exponents** of all the variables in that term.\n",
    "        * Example: The degree of $2x^3y^2$ is $3 + 2 = 5$. The degree of $-4xy^4$ is $1 + 4 = 5$. The degree of $6ab$ (which is $6a^1b^1$) is $1 + 1 = 2$.\n",
    "\n",
    "* **Degree of a Polynomial:**\n",
    "    * The **degree of a polynomial** is the **highest degree of any of its terms** with a non-zero coefficient.\n",
    "\n",
    "    * **Examples:**\n",
    "        * The degree of $3x^2 - 5x + 7$ is **2** (because the term with the highest degree is $3x^2$, which has a degree of 2).\n",
    "        * The degree of $x^3y - 2xy^2 + 5$ is **3** (because the term with the highest degree is $x^3y$, which has a degree of $3+1=4$? No, $x^3y$ has degree $3+1=4$. Let's re-evaluate. The degree of $x^3y$ is $3+1=4$. The degree of $-2xy^2$ is $1+2=3$. The degree of $5$ is $0$. So the degree of the polynomial is **4**).\n",
    "        * The degree of $7y + 2$ is **1** (linear polynomial).\n",
    "        * The degree of $15$ is **0** (constant polynomial)."
   ]
  },
  {
   "cell_type": "markdown",
   "id": "7b6bfc81",
   "metadata": {},
   "source": [
    "A polynomial of degree 1 is called a linear polynomial. For example, $2x - 3$, \n",
    "$\\sqrt{3}x + 5$, $y + 2$, $\\frac{11}{2}x$, $3z + 4$, $\\frac{1}{3}u$, etc., are all linear polynomials.\n",
    "\n",
    "A polynomial of degree 2 is called a quadratic polynomial. For example, $x^2 + 3x + 2$,\n",
    "$2x^2 - 3x + 1$, $3x^2 + 4$, $5x^2 - 6x + 7$, $8y^2 + 9y + 10$, etc., are all quadratic polynomials.\n",
    "\n",
    "A polynomial of degree 3 is called a cubic polynomial. For example, $x^3 + 2x^2 + 3x + 4$,\n",
    "$2x^3 - 3x^2 + 4$, $5x^3 - 6x^2 + 7x + 8$, $9y^3 + 10y^2 + 11y + 12$, etc., are all cubic polynomials."
   ]
  },
  {
   "cell_type": "markdown",
   "id": "93927721",
   "metadata": {},
   "source": [
    "### Zeroes of a Polynomial"
   ]
  },
  {
   "cell_type": "markdown",
   "id": "0986e98a",
   "metadata": {},
   "source": [
    "If $p(x)$ is a polynomial in $x$, and if $k$ is any real number, then the value obtained by\n",
    "replacing $x$ by $k$ in $p(x)$, is called the value of $p(x)$ at $x = k$, and is denoted by $p(k)$.\n",
    "\n",
    "In general, if $k$ is a zero of $p(x) = ax + b$, then $p(k) = ak + b = 0$, i.e.,\n",
    "$k = -\\frac{b}{a}$\n",
    "\n",
    "So, the zero of the linear polynomial $ax + b$ is $\\frac{-b}{a}$ = $\\frac{-(Constant term)}{Coefficient of x}$."
   ]
  },
  {
   "cell_type": "markdown",
   "id": "8d5b765d",
   "metadata": {},
   "source": [
    "#### Geometrical meaning of the Zeroes of a Polynomial"
   ]
  },
  {
   "cell_type": "code",
   "execution_count": 2,
   "id": "d677a8aa",
   "metadata": {},
   "outputs": [],
   "source": [
    "import matplotlib.pyplot as plt\n",
    "import numpy as np"
   ]
  },
  {
   "cell_type": "code",
   "execution_count": 5,
   "id": "d34d0057",
   "metadata": {},
   "outputs": [
    {
     "data": {
      "image/png": "[encoded data removed]",
      "text/plain": [
       "<Figure size 640x480 with 1 Axes>"
      ]
     },
     "metadata": {},
     "output_type": "display_data"
    }
   ],
   "source": [
    "x = np.linspace(-100,100)\n",
    "\n",
    "fig, ax = plt.subplots()\n",
    "ax.plot(x,(2*x + 3))\n",
    "\n",
    "ax.text(1,1.6,'$y = 2x+3$')\n",
    "\n",
    "ax.set_xlim(-8,8)\n",
    "ax.set_ylim(-8,8)\n",
    "ax.axvline(color='k',linewidth = 1)\n",
    "ax.axhline(color='k',linewidth = 1)\n",
    "\n",
    "ax.set_xticks(list(range(-8,8)))\n",
    "ax.set_aspect('equal')\n",
    "ax.grid(True,ls=':')"
   ]
  },
  {
   "cell_type": "markdown",
   "id": "16919b0b",
   "metadata": {},
   "source": [
    "Geometrically, the zero of a linear polynomial is the x-coordinate of the point where the graph of the polynomial intersects the x-axis. Since a linear polynomial represents a straight line, it will intersect the x-axis at exactly one point. For a linear polynomial in the form of $ax + b$, the zero is $(-b/a,0)$, which is where the line crosses the x-axis."
   ]
  },
  {
   "cell_type": "markdown",
   "id": "0e522dd9",
   "metadata": {},
   "source": [
    "#### Geometrical meaning of a zero of a quadratic polynomial"
   ]
  },
  {
   "cell_type": "code",
   "execution_count": 16,
   "id": "cfee88e7",
   "metadata": {},
   "outputs": [
    {
     "data": {
      "image/png": "[encoded data removed]",
      "text/plain": [
       "<Figure size 640x480 with 1 Axes>"
      ]
     },
     "metadata": {},
     "output_type": "display_data"
    }
   ],
   "source": [
    "x = np.linspace(-50,50,1000)\n",
    "\n",
    "fig, ax = plt.subplots()\n",
    "ax.plot(x,(x**2 - 3*x - 4))\n",
    "\n",
    "ax.text(1,1.6,'$y = x^2 -3x - 4$')\n",
    "\n",
    "ax.set_xlim(-8,8)\n",
    "ax.set_ylim(-8,8)\n",
    "ax.axvline(color='k',linewidth = 1)\n",
    "ax.axhline(color='k',linewidth = 1)\n",
    "\n",
    "ax.set_xticks(list(range(-8,8)))\n",
    "ax.set_aspect('equal')\n",
    "ax.grid(True,ls=':')"
   ]
  },
  {
   "cell_type": "markdown",
   "id": "5e065323",
   "metadata": {},
   "source": [
    "In fact, for any quadratic polynomial $ax^2 + bx + c$, where $a \\neq 0$, the graph of the corresponding equation $y = ax^2 + bx + c$ has one of two shapes:\n",
    "- opens upwards when $a > 0$\n",
    "- opens downwards when $a < 0$\n",
    "(These curves are called parabolas.)\n",
    "\n",
    "Geometrically, the zeroes of a quadratic polynomial $ax^2 + bx + c$ (where $a \\neq 0$) are the x-coordinates of the points where the graph of the polynomial, which is a parabola ($y = ax^2 + bx + c$), intersects the x-axis.\n",
    "\n",
    "Here's a breakdown of the possibilities:\n",
    "\n",
    "* **Two distinct zeroes:** The parabola intersects the x-axis at two different points. The x-coordinates of these two points are the two distinct zeroes of the quadratic polynomial.\n",
    "\n",
    "* **One zero (two equal zeroes):** The parabola touches the x-axis at exactly one point (the vertex of the parabola lies on the x-axis). In this case, the quadratic polynomial has one zero, which is considered a repeated root or two equal zeroes.\n",
    "\n",
    "* **No real zeroes:** The parabola does not intersect or touch the x-axis at any point. In this case, the quadratic polynomial has no real zeroes. The zeroes are complex numbers.\n",
    "\n",
    "In summary, the number of real zeroes of a quadratic polynomial corresponds to the number of times its graph intersects the x-axis. A quadratic polynomial can have at most two real zeroes."
   ]
  },
  {
   "cell_type": "markdown",
   "id": "e7ca5ba8",
   "metadata": {},
   "source": [
    "```{note}\n",
    "In general, given a polynomial $p(x)$ of degree $n$, the graph of $y = p(x)$\n",
    "intersects the x-axis at at most $n$ points. Therefore, a polynomial $p(x)$ of degree $n$ has\n",
    "at most $n$ zeroes.\n",
    "```"
   ]
  },
  {
   "cell_type": "markdown",
   "id": "9727ec3e",
   "metadata": {},
   "source": []
  }
 ],
 "metadata": {
  "kernelspec": {
   "display_name": "myenv",
   "language": "python",
   "name": "python3"
  },
  "language_info": {
   "codemirror_mode": {
    "name": "ipython",
    "version": 3
   },
   "file_extension": ".py",
   "mimetype": "text/x-python",
   "name": "python",
   "nbconvert_exporter": "python",
   "pygments_lexer": "ipython3",
   "version": "3.11.8"
  }
 },
 "nbformat": 4,
 "nbformat_minor": 5
}
