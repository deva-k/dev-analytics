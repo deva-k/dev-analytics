{
 "cells": [
  {
   "cell_type": "markdown",
   "id": "9d01cb42",
   "metadata": {},
   "source": [
    "# Genetic Algorithms"
   ]
  },
  {
   "cell_type": "markdown",
   "id": "2f15e7a5",
   "metadata": {},
   "source": []
  }
 ],
 "metadata": {
  "language_info": {
   "name": "python"
  }
 },
 "nbformat": 4,
 "nbformat_minor": 5
}
