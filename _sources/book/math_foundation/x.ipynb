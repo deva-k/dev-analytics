{
 "cells": [
  {
   "cell_type": "markdown",
   "id": "5642b75f",
   "metadata": {},
   "source": [
    "# X"
   ]
  },
  {
   "cell_type": "markdown",
   "id": "fb1f20ad",
   "metadata": {},
   "source": [
    "## Real Numbers"
   ]
  },
  {
   "cell_type": "markdown",
   "id": "ad2424b9",
   "metadata": {},
   "source": [
    "### Euclid's Division Lemma"
   ]
  },
  {
   "cell_type": "markdown",
   "id": "e019ab51",
   "metadata": {},
   "source": [
    "Given positive integers $a$ and $b$, there exist unique integers $q$ and $r$ satisfying $a = bq + r$, $0 \\leq r < b$."
   ]
  },
  {
   "cell_type": "markdown",
   "id": "9191a0e1",
   "metadata": {},
   "source": [
    "Euclid’s division algorithm, as the name suggests, has to do with divisibility of\n",
    "integers. Stated simply, it says any positive integer $a$ can be divided by another positive\n",
    "integer $b$ in such a way that it leaves a remainder $r$ that is smaller than $b$."
   ]
  },
  {
   "cell_type": "markdown",
   "id": "c1b40659",
   "metadata": {},
   "source": [
    "Let us see how the algorithm works, through an example first. Suppose we need \n",
    "to find the HCF of the integers $455$ and $42$. We start with the larger integer, that is, \n",
    "$455$. Then we use Euclid's lemma to get\n",
    "\n",
    "$455 = 42 \\times 10 + 35$\n",
    "\n",
    "Now consider the divisor $42$ and the remainder $35$, and apply the division lemma \n",
    "to get\n",
    "\n",
    "$42 = 35 \\times 1 + 7$\n",
    "\n",
    "Now consider the divisor $35$ and the remainder $7$, and apply the division lemma \n",
    "to get\n",
    "\n",
    "$35 = 7 \\times 5 + 0$\n",
    "\n",
    "Notice that the remainder has become zero, and we cannot proceed any further. \n",
    "We claim that the HCF of $455$ and $42$ is the divisor at this stage, i.e., $7$."
   ]
  },
  {
   "cell_type": "markdown",
   "id": "236c7354",
   "metadata": {},
   "source": [
    "Every positive even integer is of the form $2q$, and every positive odd integer is of the form $2q + 1$, where $q$ is some integer."
   ]
  },
  {
   "cell_type": "markdown",
   "id": "41b20fd9",
   "metadata": {},
   "source": [
    "### The Fundamental Theorem of Arithmetic"
   ]
  },
  {
   "cell_type": "markdown",
   "id": "6d48af3c",
   "metadata": {},
   "source": [
    "Every composite number\n",
    "can be expressed ( factorised) as a product of primes, and this factorisation is\n",
    "unique, apart from the order in which the prime factors occur."
   ]
  },
  {
   "cell_type": "markdown",
   "id": "506984b0",
   "metadata": {},
   "source": [
    "Any natural number can be written as a\n",
    "product of its prime factors. For instance, $2 = 2$, $4 = 2 \\times 2$, $253 = 11 \\times 23$"
   ]
  },
  {
   "cell_type": "markdown",
   "id": "6d83de8b",
   "metadata": {},
   "source": [
    "![Deep Learning take off](../images/math_foundation/prime_factor_tree.png)"
   ]
  },
  {
   "cell_type": "markdown",
   "id": "fbf6b19e",
   "metadata": {},
   "source": [
    "```{note}\n",
    "A composite number is a natural number (a positive whole number greater than 1) that has more than two factors (divisors) i.e. $1$ and itself.\n",
    "```"
   ]
  },
  {
   "cell_type": "markdown",
   "id": "be73865a",
   "metadata": {},
   "source": [
    "Note that $\\text{HCF}(6, 20) = 2^1 = \\text{Product of the smallest power of each common}$\n",
    "prime factor in the numbers.\n",
    "\n",
    "$\\text{LCM}(6, 20) = 2^2 \\times 3^1 \\times 5^1 = \\text{Product of the greatest power of each prime factor}$,\n",
    "involved in the numbers.\n",
    "\n",
    "From the example above, you might have noticed that $\\text{HCF}(6, 20) \\times \\text{LCM}(6, 20)\n",
    "= 6 \\times 20$. \n",
    "\n",
    "In fact, we can verify that for any two positive integers $a$ and $b$,\n",
    "$\\text{HCF}(a, b) \\times \\text{LCM}(a, b) = a \\times b$."
   ]
  },
  {
   "cell_type": "markdown",
   "id": "598fdbf1",
   "metadata": {},
   "source": [
    "The key to understanding this lies in the prime factorization of the two numbers, $a$ and $b$.\n",
    "\n",
    "Let's say the prime factorization of $a$ and $b$ are as follows:\n",
    "\n",
    "$a = p_1^{a_1} \\times p_2^{a_2} \\times \\dots \\times p_n^{a_n}$\n",
    "$b = p_1^{b_1} \\times p_2^{b_2} \\times \\dots \\times p_n^{b_n}$\n",
    "\n",
    "where $p_1, p_2, \\dots, p_n$ are all the prime factors that appear in either $a$ or $b$ (or both), and $a_i$ and $b_i$ are non-negative integers representing the exponents of these prime factors in the factorization of $a$ and $b$, respectively. If a prime factor doesn't appear in a number's factorization, its exponent is 0.\n",
    "\n",
    "Now, let's think about how we find the HCF and LCM using these prime factorizations:\n",
    "\n",
    "* **Highest Common Factor (HCF):** The HCF is the product of the common prime factors raised to the *lowest* power they appear in either factorization.\n",
    "    $\\text{HCF}(a, b) = p_1^{\\min(a_1, b_1)} \\times p_2^{\\min(a_2, b_2)} \\times \\dots \\times p_n^{\\min(a_n, b_n)}$\n",
    "\n",
    "* **Least Common Multiple (LCM):** The LCM is the product of all the prime factors that appear in either factorization raised to the *highest* power they appear in either factorization.\n",
    "    $\\text{LCM}(a, b) = p_1^{\\max(a_1, b_1)} \\times p_2^{\\max(a_2, b_2)} \\times \\dots \\times p_n^{\\max(a_n, b_n)}$\n",
    "\n",
    "Now, let's consider the product of the HCF and the LCM:\n",
    "\n",
    "$\\text{HCF}(a, b) \\times \\text{LCM}(a, b) = (p_1^{\\min(a_1, b_1)} \\times p_2^{\\min(a_2, b_2)} \\times \\dots \\times p_n^{\\min(a_n, b_n)}) \\times (p_1^{\\max(a_1, b_1)} \\times p_2^{\\max(a_2, b_2)} \\times \\dots \\times p_n^{\\max(a_n, b_n)})$\n",
    "\n",
    "We can rearrange this product by grouping the powers of the same prime factors together:\n",
    "\n",
    "$\\text{HCF}(a, b) \\times \\text{LCM}(a, b) = p_1^{\\min(a_1, b_1) + \\max(a_1, b_1)} \\times p_2^{\\min(a_2, b_2) + \\max(a_2, b_2)} \\times \\dots \\times p_n^{\\min(a_n, b_n) + \\max(a_n, b_n)}$\n",
    "\n",
    "Now, here's the crucial insight: for any two numbers $x$ and $y$, the sum of their minimum and maximum is equal to their sum:\n",
    "\n",
    "$\\min(x, y) + \\max(x, y) = x + y$\n",
    "\n",
    "Applying this to the exponents of our prime factors:\n",
    "\n",
    "$\\min(a_i, b_i) + \\max(a_i, b_i) = a_i + b_i$\n",
    "\n",
    "So, our product becomes:\n",
    "\n",
    "$\\text{HCF}(a, b) \\times \\text{LCM}(a, b) = p_1^{a_1 + b_1} \\times p_2^{a_2 + b_2} \\times \\dots \\times p_n^{a_n + b_n}$\n",
    "\n",
    "We can rewrite this using the properties of exponents:\n",
    "\n",
    "$\\text{HCF}(a, b) \\times \\text{LCM}(a, b) = (p_1^{a_1} \\times p_2^{a_2} \\times \\dots \\times p_n^{a_n}) \\times (p_1^{b_1} \\times p_2^{b_2} \\times \\dots \\times p_n^{b_n})$\n",
    "\n",
    "And recognizing the original prime factorizations of $a$ and $b$:\n",
    "\n",
    "$\\text{HCF}(a, b) \\times \\text{LCM}(a, b) = a \\times b$\n",
    "\n",
    "**In simpler terms, the logic is this:**\n",
    "\n",
    "When you find the HCF, you take the common prime factors with their *smallest* exponents. When you find the LCM, you take *all* the prime factors with their *largest* exponents.\n",
    "\n",
    "When you multiply the HCF and the LCM together, for each prime factor, you're essentially combining the smallest and largest exponent from the original numbers. This combination reconstructs the original exponents of that prime factor in both $a$ and $b$ when multiplied together.\n",
    "\n",
    "Let's take our example of 6 and 20 again:\n",
    "\n",
    "$6 = 2^1 \\times 3^1$\n",
    "$20 = 2^2 \\times 5^1$\n",
    "\n",
    "HCF(6, 20) = $2^{\\min(1, 2)} \\times 3^{\\min(1, 0)} \\times 5^{\\min(0, 1)} = 2^1 \\times 3^0 \\times 5^0 = 2 \\times 1 \\times 1 = 2$\n",
    "LCM(6, 20) = $2^{\\max(1, 2)} \\times 3^{\\max(1, 0)} \\times 5^{\\max(0, 1)} = 2^2 \\times 3^1 \\times 5^1 = 4 \\times 3 \\times 5 = 60$\n",
    "\n",
    "Now, let's multiply the HCF and LCM:\n",
    "\n",
    "HCF $\\times$ LCM = $2 \\times 60 = 120$\n",
    "\n",
    "And let's multiply the original numbers:\n",
    "\n",
    "$6 \\times 20 = 120$\n",
    "\n",
    "As you can see, they are equal!"
   ]
  },
  {
   "cell_type": "markdown",
   "id": "3c511595",
   "metadata": {},
   "source": []
  }
 ],
 "metadata": {
  "language_info": {
   "name": "python"
  }
 },
 "nbformat": 4,
 "nbformat_minor": 5
}
